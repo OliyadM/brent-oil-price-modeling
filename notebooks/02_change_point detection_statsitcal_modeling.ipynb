{
 "cells": [
  {
   "cell_type": "code",
   "execution_count": 3,
   "id": "4322917f",
   "metadata": {},
   "outputs": [],
   "source": [
    "# Import necessary libraries for change point detection and Bayesian inference\n",
    "import pandas as pd\n",
    "import numpy as np\n",
    "import pymc3 as pm\n",
    "import matplotlib.pyplot as plt\n",
    "import seaborn as sns\n",
    "from statsmodels.tsa.stattools import adfuller\n",
    "from statsmodels.tsa.seasonal import seasonal_decompose\n"
   ]
  },
  {
   "cell_type": "code",
   "execution_count": 4,
   "id": "95b0b9e3",
   "metadata": {},
   "outputs": [
    {
     "data": {
      "text/html": [
       "<div>\n",
       "<style scoped>\n",
       "    .dataframe tbody tr th:only-of-type {\n",
       "        vertical-align: middle;\n",
       "    }\n",
       "\n",
       "    .dataframe tbody tr th {\n",
       "        vertical-align: top;\n",
       "    }\n",
       "\n",
       "    .dataframe thead th {\n",
       "        text-align: right;\n",
       "    }\n",
       "</style>\n",
       "<table border=\"1\" class=\"dataframe\">\n",
       "  <thead>\n",
       "    <tr style=\"text-align: right;\">\n",
       "      <th></th>\n",
       "      <th>Date</th>\n",
       "      <th>Price</th>\n",
       "      <th>Log_Returns</th>\n",
       "    </tr>\n",
       "  </thead>\n",
       "  <tbody>\n",
       "    <tr>\n",
       "      <th>1</th>\n",
       "      <td>1987-05-21</td>\n",
       "      <td>18.45</td>\n",
       "      <td>-0.009709</td>\n",
       "    </tr>\n",
       "    <tr>\n",
       "      <th>2</th>\n",
       "      <td>1987-05-22</td>\n",
       "      <td>18.55</td>\n",
       "      <td>0.005405</td>\n",
       "    </tr>\n",
       "    <tr>\n",
       "      <th>3</th>\n",
       "      <td>1987-05-25</td>\n",
       "      <td>18.60</td>\n",
       "      <td>0.002692</td>\n",
       "    </tr>\n",
       "    <tr>\n",
       "      <th>4</th>\n",
       "      <td>1987-05-26</td>\n",
       "      <td>18.63</td>\n",
       "      <td>0.001612</td>\n",
       "    </tr>\n",
       "    <tr>\n",
       "      <th>5</th>\n",
       "      <td>1987-05-27</td>\n",
       "      <td>18.60</td>\n",
       "      <td>-0.001612</td>\n",
       "    </tr>\n",
       "  </tbody>\n",
       "</table>\n",
       "</div>"
      ],
      "text/plain": [
       "        Date  Price  Log_Returns\n",
       "1 1987-05-21  18.45    -0.009709\n",
       "2 1987-05-22  18.55     0.005405\n",
       "3 1987-05-25  18.60     0.002692\n",
       "4 1987-05-26  18.63     0.001612\n",
       "5 1987-05-27  18.60    -0.001612"
      ]
     },
     "execution_count": 4,
     "metadata": {},
     "output_type": "execute_result"
    }
   ],
   "source": [
    "# Load the Brent oil price dataset (make sure you have the correct file path)\n",
    "df = pd.read_csv(\"../data/BrentOilPrices.csv\")\n",
    "df['Date'] = pd.to_datetime(df['Date'], format='mixed', dayfirst=True)\n",
    "df = df.sort_values('Date')\n",
    "df.reset_index(drop=True, inplace=True)\n",
    "\n",
    "# Calculate the log returns for stationarity\n",
    "df['Log_Returns'] = np.log(df['Price'] / df['Price'].shift(1))\n",
    "\n",
    "# Drop missing values\n",
    "df = df.dropna()\n",
    "\n",
    "# Check the first few rows\n",
    "df.head()\n"
   ]
  },
  {
   "cell_type": "code",
   "execution_count": 5,
   "id": "79152ade",
   "metadata": {},
   "outputs": [
    {
     "ename": "NameError",
     "evalue": "name 'pm' is not defined",
     "output_type": "error",
     "traceback": [
      "\u001b[1;31m---------------------------------------------------------------------------\u001b[0m",
      "\u001b[1;31mNameError\u001b[0m                                 Traceback (most recent call last)",
      "Cell \u001b[1;32mIn[5], line 2\u001b[0m\n\u001b[0;32m      1\u001b[0m \u001b[38;5;66;03m# Set up the Bayesian Change Point model using PyMC3\u001b[39;00m\n\u001b[1;32m----> 2\u001b[0m \u001b[38;5;28;01mwith\u001b[39;00m \u001b[43mpm\u001b[49m\u001b[38;5;241m.\u001b[39mModel() \u001b[38;5;28;01mas\u001b[39;00m model:\n\u001b[0;32m      3\u001b[0m     \u001b[38;5;66;03m# Define the prior for the change point tau\u001b[39;00m\n\u001b[0;32m      4\u001b[0m     tau \u001b[38;5;241m=\u001b[39m pm\u001b[38;5;241m.\u001b[39mDiscreteUniform(\u001b[38;5;124m'\u001b[39m\u001b[38;5;124mtau\u001b[39m\u001b[38;5;124m'\u001b[39m, lower\u001b[38;5;241m=\u001b[39m\u001b[38;5;241m0\u001b[39m, upper\u001b[38;5;241m=\u001b[39m\u001b[38;5;28mlen\u001b[39m(df) \u001b[38;5;241m-\u001b[39m \u001b[38;5;241m1\u001b[39m)\n\u001b[0;32m      6\u001b[0m     \u001b[38;5;66;03m# Define prior for the means before and after the change point\u001b[39;00m\n",
      "\u001b[1;31mNameError\u001b[0m: name 'pm' is not defined"
     ]
    }
   ],
   "source": [
    "# Set up the Bayesian Change Point model using PyMC3\n",
    "with pm.Model() as model:\n",
    "    # Define the prior for the change point tau\n",
    "    tau = pm.DiscreteUniform('tau', lower=0, upper=len(df) - 1)\n",
    "    \n",
    "    # Define prior for the means before and after the change point\n",
    "    mu_1 = pm.Normal('mu_1', mu=0, sigma=1)\n",
    "    mu_2 = pm.Normal('mu_2', mu=0, sigma=1)\n",
    "    \n",
    "    # Switch function to select the correct mean based on the time\n",
    "    mu = pm.math.switch(tau > np.arange(len(df)), mu_1, mu_2)\n",
    "    \n",
    "    # Define the likelihood\n",
    "    sigma = pm.HalfNormal('sigma', sigma=1)\n",
    "    likelihood = pm.Normal('likelihood', mu=mu, sigma=sigma, observed=df['Log_Returns'])\n",
    "    \n",
    "    # Sample from the posterior using MCMC\n",
    "    trace = pm.sample(2000, return_inferencedata=False)\n",
    "    \n",
    "# Check the trace plots\n",
    "pm.traceplot(trace)\n",
    "plt.tight_layout()\n",
    "plt.show()\n"
   ]
  },
  {
   "cell_type": "code",
   "execution_count": null,
   "id": "f3bb6e22",
   "metadata": {},
   "outputs": [],
   "source": [
    "# Check the summary of the posterior samples\n",
    "pm.summary(trace).round(2)\n",
    "\n",
    "# Extract the change point (tau)\n",
    "change_point = np.median(trace['tau'])\n",
    "print(f\"Estimated change point: Day {change_point}\")\n"
   ]
  },
  {
   "cell_type": "code",
   "execution_count": null,
   "id": "89b11466",
   "metadata": {},
   "outputs": [],
   "source": [
    "# Plot the detected change point along with the log returns\n",
    "plt.figure(figsize=(14, 6))\n",
    "plt.plot(df['Date'], df['Log_Returns'], label=\"Log Returns\", color='orange')\n",
    "plt.axvline(df['Date'].iloc[int(change_point)], color='red', linestyle='--', label='Change Point')\n",
    "plt.title(\"Change Point Detection in Log Returns\")\n",
    "plt.xlabel(\"Date\")\n",
    "plt.ylabel(\"Log Returns\")\n",
    "plt.legend()\n",
    "plt.tight_layout()\n",
    "plt.show()\n"
   ]
  },
  {
   "cell_type": "code",
   "execution_count": null,
   "id": "190a0463",
   "metadata": {},
   "outputs": [],
   "source": [
    "# Load the events dataset to correlate change points with key events\n",
    "df_events = pd.read_csv('../data/events.csv', parse_dates=['Date'])\n",
    "\n",
    "# Map events onto price data\n",
    "df['Event'] = df['Date'].map(df_events.set_index('Date')['Event'])\n",
    "\n",
    "# Plot the price data with change point and event markers\n",
    "plt.figure(figsize=(16, 6))\n",
    "plt.plot(df['Date'], df['Price'], label='Brent Oil Price')\n",
    "plt.axvline(df['Date'].iloc[int(change_point)], color='red', linestyle='--', label='Change Point')\n",
    "\n",
    "# Add event annotations\n",
    "for _, row in df_events.iterrows():\n",
    "    plt.axvline(x=row['Date'], color='blue', linestyle='--', alpha=0.5)\n",
    "    plt.text(row['Date'], df['Price'].max()*0.9, row['Event'], rotation=90, fontsize=8, verticalalignment='top')\n",
    "\n",
    "plt.title('Brent Oil Price with Key Events and Detected Change Point')\n",
    "plt.xlabel('Date')\n",
    "plt.ylabel('Price (USD/barrel)')\n",
    "plt.legend()\n",
    "plt.tight_layout()\n",
    "plt.show()\n"
   ]
  },
  {
   "cell_type": "code",
   "execution_count": null,
   "id": "698d8d56",
   "metadata": {},
   "outputs": [],
   "source": [
    "# Quantify the impact before and after the change point\n",
    "before_change = df['Log_Returns'][:int(change_point)].mean()\n",
    "after_change = df['Log_Returns'][int(change_point):].mean()\n",
    "\n",
    "# Calculate the change in mean price\n",
    "price_before = np.exp(before_change)\n",
    "price_after = np.exp(after_change)\n",
    "\n",
    "impact = (price_after - price_before) / price_before * 100\n",
    "\n",
    "print(f\"Price before change: {price_before:.2f}\")\n",
    "print(f\"Price after change: {price_after:.2f}\")\n",
    "print(f\"Impact of change: {impact:.2f}%\")\n"
   ]
  },
  {
   "cell_type": "code",
   "execution_count": null,
   "id": "c9be2cb2",
   "metadata": {},
   "outputs": [],
   "source": [
    "# Define the Bayesian Change Point Model\n",
    "with pm.Model() as model:\n",
    "    tau = pm.DiscreteUniform('tau', lower=0, upper=len(df) - 1)\n",
    "    mu_1 = pm.Normal('mu_1', mu=0, sigma=1)\n",
    "    mu_2 = pm.Normal('mu_2', mu=0, sigma=1)\n",
    "    \n",
    "    # Switch function to change means based on the change point\n",
    "    mu = pm.math.switch(tau > np.arange(len(df)), mu_1, mu_2)\n",
    "    \n",
    "    # Likelihood function\n",
    "    sigma = pm.HalfNormal('sigma', sigma=1)\n",
    "    likelihood = pm.Normal('likelihood', mu=mu, sigma=sigma, observed=df['Log_Returns'])\n",
    "    \n",
    "    # Run MCMC to sample from the posterior distribution\n",
    "    trace = pm.sample(2000, return_inferencedata=False)\n"
   ]
  },
  {
   "cell_type": "code",
   "execution_count": null,
   "id": "8ae16a29",
   "metadata": {},
   "outputs": [],
   "source": [
    "# Check the model's convergence\n",
    "pm.summary(trace).round(2)"
   ]
  },
  {
   "cell_type": "code",
   "execution_count": null,
   "id": "1a851863",
   "metadata": {},
   "outputs": [],
   "source": [
    "# Get the change point date and quantify the shift\n",
    "change_point = np.median(trace['tau'])\n",
    "print(f\"Estimated Change Point: {df['Date'].iloc[int(change_point)]}\")\n",
    "\n",
    "before_change = df['Log_Returns'][:int(change_point)].mean()\n",
    "after_change = df['Log_Returns'][int(change_point):].mean()\n",
    "\n",
    "price_before = np.exp(before_change)\n",
    "price_after = np.exp(after_change)\n",
    "\n",
    "impact = (price_after - price_before) / price_before * 100\n",
    "print(f\"Price before: {price_before:.2f}\")\n",
    "print(f\"Price after: {price_after:.2f}\")\n",
    "print(f\"Impact: {impact:.2f}%\")\n"
   ]
  }
 ],
 "metadata": {
  "kernelspec": {
   "display_name": "Python 3",
   "language": "python",
   "name": "python3"
  },
  "language_info": {
   "codemirror_mode": {
    "name": "ipython",
    "version": 3
   },
   "file_extension": ".py",
   "mimetype": "text/x-python",
   "name": "python",
   "nbconvert_exporter": "python",
   "pygments_lexer": "ipython3",
   "version": "3.12.0"
  }
 },
 "nbformat": 4,
 "nbformat_minor": 5
}
